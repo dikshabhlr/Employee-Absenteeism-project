{
 "cells": [
  {
   "cell_type": "code",
   "execution_count": 1,
   "metadata": {},
   "outputs": [],
   "source": [
    "import pandas as pd\n",
    "import numpy as np\n",
    "from sklearn.model_selection import train_test_split\n",
    "import matplotlib.pyplot as plt\n",
    "from sklearn.metrics import r2_score\n",
    "from scipy import stats\n",
    "import seaborn as sns\n",
    "from scipy.stats import chi2_contingency\n",
    "import os\n",
    "%matplotlib inline"
   ]
  },
  {
   "cell_type": "code",
   "execution_count": 2,
   "metadata": {},
   "outputs": [],
   "source": [
    "os.chdir(\"E:/edWisor/EdProject\")"
   ]
  },
  {
   "cell_type": "code",
   "execution_count": 3,
   "metadata": {},
   "outputs": [],
   "source": [
    "df = pd.read_excel(\"Absenteeism_at_work_Project.xls\")"
   ]
  },
  {
   "cell_type": "markdown",
   "metadata": {},
   "source": [
    "####################Exploratory data analysis############"
   ]
  },
  {
   "cell_type": "code",
   "execution_count": 4,
   "metadata": {},
   "outputs": [
    {
     "data": {
      "text/html": [
       "<div>\n",
       "<style scoped>\n",
       "    .dataframe tbody tr th:only-of-type {\n",
       "        vertical-align: middle;\n",
       "    }\n",
       "\n",
       "    .dataframe tbody tr th {\n",
       "        vertical-align: top;\n",
       "    }\n",
       "\n",
       "    .dataframe thead th {\n",
       "        text-align: right;\n",
       "    }\n",
       "</style>\n",
       "<table border=\"1\" class=\"dataframe\">\n",
       "  <thead>\n",
       "    <tr style=\"text-align: right;\">\n",
       "      <th></th>\n",
       "      <th>ID</th>\n",
       "      <th>Reason for absence</th>\n",
       "      <th>Month of absence</th>\n",
       "      <th>Day of the week</th>\n",
       "      <th>Seasons</th>\n",
       "      <th>Transportation expense</th>\n",
       "      <th>Distance from Residence to Work</th>\n",
       "      <th>Service time</th>\n",
       "      <th>Age</th>\n",
       "      <th>Work load Average/day</th>\n",
       "      <th>...</th>\n",
       "      <th>Disciplinary failure</th>\n",
       "      <th>Education</th>\n",
       "      <th>Son</th>\n",
       "      <th>Social drinker</th>\n",
       "      <th>Social smoker</th>\n",
       "      <th>Pet</th>\n",
       "      <th>Weight</th>\n",
       "      <th>Height</th>\n",
       "      <th>Body mass index</th>\n",
       "      <th>Absenteeism time in hours</th>\n",
       "    </tr>\n",
       "  </thead>\n",
       "  <tbody>\n",
       "    <tr>\n",
       "      <th>0</th>\n",
       "      <td>11</td>\n",
       "      <td>26.0</td>\n",
       "      <td>7.0</td>\n",
       "      <td>3</td>\n",
       "      <td>1</td>\n",
       "      <td>289.0</td>\n",
       "      <td>36.0</td>\n",
       "      <td>13.0</td>\n",
       "      <td>33.0</td>\n",
       "      <td>239554.0</td>\n",
       "      <td>...</td>\n",
       "      <td>0.0</td>\n",
       "      <td>1.0</td>\n",
       "      <td>2.0</td>\n",
       "      <td>1.0</td>\n",
       "      <td>0.0</td>\n",
       "      <td>1.0</td>\n",
       "      <td>90.0</td>\n",
       "      <td>172.0</td>\n",
       "      <td>30.0</td>\n",
       "      <td>4.0</td>\n",
       "    </tr>\n",
       "    <tr>\n",
       "      <th>1</th>\n",
       "      <td>36</td>\n",
       "      <td>0.0</td>\n",
       "      <td>7.0</td>\n",
       "      <td>3</td>\n",
       "      <td>1</td>\n",
       "      <td>118.0</td>\n",
       "      <td>13.0</td>\n",
       "      <td>18.0</td>\n",
       "      <td>50.0</td>\n",
       "      <td>239554.0</td>\n",
       "      <td>...</td>\n",
       "      <td>1.0</td>\n",
       "      <td>1.0</td>\n",
       "      <td>1.0</td>\n",
       "      <td>1.0</td>\n",
       "      <td>0.0</td>\n",
       "      <td>0.0</td>\n",
       "      <td>98.0</td>\n",
       "      <td>178.0</td>\n",
       "      <td>31.0</td>\n",
       "      <td>0.0</td>\n",
       "    </tr>\n",
       "    <tr>\n",
       "      <th>2</th>\n",
       "      <td>3</td>\n",
       "      <td>23.0</td>\n",
       "      <td>7.0</td>\n",
       "      <td>4</td>\n",
       "      <td>1</td>\n",
       "      <td>179.0</td>\n",
       "      <td>51.0</td>\n",
       "      <td>18.0</td>\n",
       "      <td>38.0</td>\n",
       "      <td>239554.0</td>\n",
       "      <td>...</td>\n",
       "      <td>0.0</td>\n",
       "      <td>1.0</td>\n",
       "      <td>0.0</td>\n",
       "      <td>1.0</td>\n",
       "      <td>0.0</td>\n",
       "      <td>0.0</td>\n",
       "      <td>89.0</td>\n",
       "      <td>170.0</td>\n",
       "      <td>31.0</td>\n",
       "      <td>2.0</td>\n",
       "    </tr>\n",
       "    <tr>\n",
       "      <th>3</th>\n",
       "      <td>7</td>\n",
       "      <td>7.0</td>\n",
       "      <td>7.0</td>\n",
       "      <td>5</td>\n",
       "      <td>1</td>\n",
       "      <td>279.0</td>\n",
       "      <td>5.0</td>\n",
       "      <td>14.0</td>\n",
       "      <td>39.0</td>\n",
       "      <td>239554.0</td>\n",
       "      <td>...</td>\n",
       "      <td>0.0</td>\n",
       "      <td>1.0</td>\n",
       "      <td>2.0</td>\n",
       "      <td>1.0</td>\n",
       "      <td>1.0</td>\n",
       "      <td>0.0</td>\n",
       "      <td>68.0</td>\n",
       "      <td>168.0</td>\n",
       "      <td>24.0</td>\n",
       "      <td>4.0</td>\n",
       "    </tr>\n",
       "    <tr>\n",
       "      <th>4</th>\n",
       "      <td>11</td>\n",
       "      <td>23.0</td>\n",
       "      <td>7.0</td>\n",
       "      <td>5</td>\n",
       "      <td>1</td>\n",
       "      <td>289.0</td>\n",
       "      <td>36.0</td>\n",
       "      <td>13.0</td>\n",
       "      <td>33.0</td>\n",
       "      <td>239554.0</td>\n",
       "      <td>...</td>\n",
       "      <td>0.0</td>\n",
       "      <td>1.0</td>\n",
       "      <td>2.0</td>\n",
       "      <td>1.0</td>\n",
       "      <td>0.0</td>\n",
       "      <td>1.0</td>\n",
       "      <td>90.0</td>\n",
       "      <td>172.0</td>\n",
       "      <td>30.0</td>\n",
       "      <td>2.0</td>\n",
       "    </tr>\n",
       "  </tbody>\n",
       "</table>\n",
       "<p>5 rows × 21 columns</p>\n",
       "</div>"
      ],
      "text/plain": [
       "   ID  Reason for absence  Month of absence  Day of the week  Seasons  \\\n",
       "0  11                26.0               7.0                3        1   \n",
       "1  36                 0.0               7.0                3        1   \n",
       "2   3                23.0               7.0                4        1   \n",
       "3   7                 7.0               7.0                5        1   \n",
       "4  11                23.0               7.0                5        1   \n",
       "\n",
       "   Transportation expense  Distance from Residence to Work  Service time  \\\n",
       "0                   289.0                             36.0          13.0   \n",
       "1                   118.0                             13.0          18.0   \n",
       "2                   179.0                             51.0          18.0   \n",
       "3                   279.0                              5.0          14.0   \n",
       "4                   289.0                             36.0          13.0   \n",
       "\n",
       "    Age  Work load Average/day             ...              \\\n",
       "0  33.0                239554.0            ...               \n",
       "1  50.0                239554.0            ...               \n",
       "2  38.0                239554.0            ...               \n",
       "3  39.0                239554.0            ...               \n",
       "4  33.0                239554.0            ...               \n",
       "\n",
       "   Disciplinary failure  Education  Son  Social drinker  Social smoker  Pet  \\\n",
       "0                   0.0        1.0  2.0             1.0            0.0  1.0   \n",
       "1                   1.0        1.0  1.0             1.0            0.0  0.0   \n",
       "2                   0.0        1.0  0.0             1.0            0.0  0.0   \n",
       "3                   0.0        1.0  2.0             1.0            1.0  0.0   \n",
       "4                   0.0        1.0  2.0             1.0            0.0  1.0   \n",
       "\n",
       "   Weight  Height  Body mass index  Absenteeism time in hours  \n",
       "0    90.0   172.0             30.0                        4.0  \n",
       "1    98.0   178.0             31.0                        0.0  \n",
       "2    89.0   170.0             31.0                        2.0  \n",
       "3    68.0   168.0             24.0                        4.0  \n",
       "4    90.0   172.0             30.0                        2.0  \n",
       "\n",
       "[5 rows x 21 columns]"
      ]
     },
     "execution_count": 4,
     "metadata": {},
     "output_type": "execute_result"
    }
   ],
   "source": [
    "df.head()"
   ]
  },
  {
   "cell_type": "code",
   "execution_count": 5,
   "metadata": {},
   "outputs": [
    {
     "data": {
      "text/html": [
       "<div>\n",
       "<style scoped>\n",
       "    .dataframe tbody tr th:only-of-type {\n",
       "        vertical-align: middle;\n",
       "    }\n",
       "\n",
       "    .dataframe tbody tr th {\n",
       "        vertical-align: top;\n",
       "    }\n",
       "\n",
       "    .dataframe thead th {\n",
       "        text-align: right;\n",
       "    }\n",
       "</style>\n",
       "<table border=\"1\" class=\"dataframe\">\n",
       "  <thead>\n",
       "    <tr style=\"text-align: right;\">\n",
       "      <th></th>\n",
       "      <th>ID</th>\n",
       "      <th>Reason for absence</th>\n",
       "      <th>Month of absence</th>\n",
       "      <th>Day of the week</th>\n",
       "      <th>Seasons</th>\n",
       "      <th>Transportation expense</th>\n",
       "      <th>Distance from Residence to Work</th>\n",
       "      <th>Service time</th>\n",
       "      <th>Age</th>\n",
       "      <th>Work load Average/day</th>\n",
       "      <th>...</th>\n",
       "      <th>Disciplinary failure</th>\n",
       "      <th>Education</th>\n",
       "      <th>Son</th>\n",
       "      <th>Social drinker</th>\n",
       "      <th>Social smoker</th>\n",
       "      <th>Pet</th>\n",
       "      <th>Weight</th>\n",
       "      <th>Height</th>\n",
       "      <th>Body mass index</th>\n",
       "      <th>Absenteeism time in hours</th>\n",
       "    </tr>\n",
       "  </thead>\n",
       "  <tbody>\n",
       "    <tr>\n",
       "      <th>735</th>\n",
       "      <td>11</td>\n",
       "      <td>14.0</td>\n",
       "      <td>7.0</td>\n",
       "      <td>3</td>\n",
       "      <td>1</td>\n",
       "      <td>289.0</td>\n",
       "      <td>36.0</td>\n",
       "      <td>13.0</td>\n",
       "      <td>33.0</td>\n",
       "      <td>264604.0</td>\n",
       "      <td>...</td>\n",
       "      <td>0.0</td>\n",
       "      <td>1.0</td>\n",
       "      <td>2.0</td>\n",
       "      <td>1.0</td>\n",
       "      <td>0.0</td>\n",
       "      <td>1.0</td>\n",
       "      <td>90.0</td>\n",
       "      <td>172.0</td>\n",
       "      <td>30.0</td>\n",
       "      <td>8.0</td>\n",
       "    </tr>\n",
       "    <tr>\n",
       "      <th>736</th>\n",
       "      <td>1</td>\n",
       "      <td>11.0</td>\n",
       "      <td>7.0</td>\n",
       "      <td>3</td>\n",
       "      <td>1</td>\n",
       "      <td>235.0</td>\n",
       "      <td>11.0</td>\n",
       "      <td>14.0</td>\n",
       "      <td>37.0</td>\n",
       "      <td>264604.0</td>\n",
       "      <td>...</td>\n",
       "      <td>0.0</td>\n",
       "      <td>3.0</td>\n",
       "      <td>1.0</td>\n",
       "      <td>0.0</td>\n",
       "      <td>0.0</td>\n",
       "      <td>1.0</td>\n",
       "      <td>88.0</td>\n",
       "      <td>172.0</td>\n",
       "      <td>29.0</td>\n",
       "      <td>4.0</td>\n",
       "    </tr>\n",
       "    <tr>\n",
       "      <th>737</th>\n",
       "      <td>4</td>\n",
       "      <td>0.0</td>\n",
       "      <td>0.0</td>\n",
       "      <td>3</td>\n",
       "      <td>1</td>\n",
       "      <td>118.0</td>\n",
       "      <td>14.0</td>\n",
       "      <td>13.0</td>\n",
       "      <td>40.0</td>\n",
       "      <td>271219.0</td>\n",
       "      <td>...</td>\n",
       "      <td>0.0</td>\n",
       "      <td>1.0</td>\n",
       "      <td>1.0</td>\n",
       "      <td>1.0</td>\n",
       "      <td>0.0</td>\n",
       "      <td>8.0</td>\n",
       "      <td>98.0</td>\n",
       "      <td>170.0</td>\n",
       "      <td>34.0</td>\n",
       "      <td>0.0</td>\n",
       "    </tr>\n",
       "    <tr>\n",
       "      <th>738</th>\n",
       "      <td>8</td>\n",
       "      <td>0.0</td>\n",
       "      <td>0.0</td>\n",
       "      <td>4</td>\n",
       "      <td>2</td>\n",
       "      <td>231.0</td>\n",
       "      <td>35.0</td>\n",
       "      <td>14.0</td>\n",
       "      <td>39.0</td>\n",
       "      <td>271219.0</td>\n",
       "      <td>...</td>\n",
       "      <td>0.0</td>\n",
       "      <td>1.0</td>\n",
       "      <td>2.0</td>\n",
       "      <td>1.0</td>\n",
       "      <td>0.0</td>\n",
       "      <td>2.0</td>\n",
       "      <td>100.0</td>\n",
       "      <td>170.0</td>\n",
       "      <td>35.0</td>\n",
       "      <td>0.0</td>\n",
       "    </tr>\n",
       "    <tr>\n",
       "      <th>739</th>\n",
       "      <td>35</td>\n",
       "      <td>0.0</td>\n",
       "      <td>0.0</td>\n",
       "      <td>6</td>\n",
       "      <td>3</td>\n",
       "      <td>179.0</td>\n",
       "      <td>45.0</td>\n",
       "      <td>14.0</td>\n",
       "      <td>53.0</td>\n",
       "      <td>271219.0</td>\n",
       "      <td>...</td>\n",
       "      <td>0.0</td>\n",
       "      <td>1.0</td>\n",
       "      <td>1.0</td>\n",
       "      <td>0.0</td>\n",
       "      <td>0.0</td>\n",
       "      <td>1.0</td>\n",
       "      <td>77.0</td>\n",
       "      <td>175.0</td>\n",
       "      <td>25.0</td>\n",
       "      <td>0.0</td>\n",
       "    </tr>\n",
       "  </tbody>\n",
       "</table>\n",
       "<p>5 rows × 21 columns</p>\n",
       "</div>"
      ],
      "text/plain": [
       "     ID  Reason for absence  Month of absence  Day of the week  Seasons  \\\n",
       "735  11                14.0               7.0                3        1   \n",
       "736   1                11.0               7.0                3        1   \n",
       "737   4                 0.0               0.0                3        1   \n",
       "738   8                 0.0               0.0                4        2   \n",
       "739  35                 0.0               0.0                6        3   \n",
       "\n",
       "     Transportation expense  Distance from Residence to Work  Service time  \\\n",
       "735                   289.0                             36.0          13.0   \n",
       "736                   235.0                             11.0          14.0   \n",
       "737                   118.0                             14.0          13.0   \n",
       "738                   231.0                             35.0          14.0   \n",
       "739                   179.0                             45.0          14.0   \n",
       "\n",
       "      Age  Work load Average/day             ...              \\\n",
       "735  33.0                264604.0            ...               \n",
       "736  37.0                264604.0            ...               \n",
       "737  40.0                271219.0            ...               \n",
       "738  39.0                271219.0            ...               \n",
       "739  53.0                271219.0            ...               \n",
       "\n",
       "     Disciplinary failure  Education  Son  Social drinker  Social smoker  Pet  \\\n",
       "735                   0.0        1.0  2.0             1.0            0.0  1.0   \n",
       "736                   0.0        3.0  1.0             0.0            0.0  1.0   \n",
       "737                   0.0        1.0  1.0             1.0            0.0  8.0   \n",
       "738                   0.0        1.0  2.0             1.0            0.0  2.0   \n",
       "739                   0.0        1.0  1.0             0.0            0.0  1.0   \n",
       "\n",
       "     Weight  Height  Body mass index  Absenteeism time in hours  \n",
       "735    90.0   172.0             30.0                        8.0  \n",
       "736    88.0   172.0             29.0                        4.0  \n",
       "737    98.0   170.0             34.0                        0.0  \n",
       "738   100.0   170.0             35.0                        0.0  \n",
       "739    77.0   175.0             25.0                        0.0  \n",
       "\n",
       "[5 rows x 21 columns]"
      ]
     },
     "execution_count": 5,
     "metadata": {},
     "output_type": "execute_result"
    }
   ],
   "source": [
    "df.tail()"
   ]
  },
  {
   "cell_type": "code",
   "execution_count": 6,
   "metadata": {},
   "outputs": [
    {
     "data": {
      "text/plain": [
       "ID                                 36\n",
       "Reason for absence                 28\n",
       "Month of absence                   13\n",
       "Day of the week                     5\n",
       "Seasons                             4\n",
       "Transportation expense             24\n",
       "Distance from Residence to Work    25\n",
       "Service time                       18\n",
       "Age                                22\n",
       "Work load Average/day              38\n",
       "Hit target                         13\n",
       "Disciplinary failure                2\n",
       "Education                           4\n",
       "Son                                 5\n",
       "Social drinker                      2\n",
       "Social smoker                       2\n",
       "Pet                                 6\n",
       "Weight                             26\n",
       "Height                             14\n",
       "Body mass index                    17\n",
       "Absenteeism time in hours          19\n",
       "dtype: int64"
      ]
     },
     "execution_count": 6,
     "metadata": {},
     "output_type": "execute_result"
    }
   ],
   "source": [
    "df.nunique()"
   ]
  },
  {
   "cell_type": "code",
   "execution_count": 7,
   "metadata": {},
   "outputs": [
    {
     "data": {
      "text/plain": [
       "ID                                   int64\n",
       "Reason for absence                 float64\n",
       "Month of absence                   float64\n",
       "Day of the week                      int64\n",
       "Seasons                              int64\n",
       "Transportation expense             float64\n",
       "Distance from Residence to Work    float64\n",
       "Service time                       float64\n",
       "Age                                float64\n",
       "Work load Average/day              float64\n",
       "Hit target                         float64\n",
       "Disciplinary failure               float64\n",
       "Education                          float64\n",
       "Son                                float64\n",
       "Social drinker                     float64\n",
       "Social smoker                      float64\n",
       "Pet                                float64\n",
       "Weight                             float64\n",
       "Height                             float64\n",
       "Body mass index                    float64\n",
       "Absenteeism time in hours          float64\n",
       "dtype: object"
      ]
     },
     "execution_count": 7,
     "metadata": {},
     "output_type": "execute_result"
    }
   ],
   "source": [
    "df.dtypes"
   ]
  },
  {
   "cell_type": "code",
   "execution_count": 8,
   "metadata": {},
   "outputs": [
    {
     "data": {
      "text/plain": [
       "(740, 21)"
      ]
     },
     "execution_count": 8,
     "metadata": {},
     "output_type": "execute_result"
    }
   ],
   "source": [
    "df.shape"
   ]
  },
  {
   "cell_type": "code",
   "execution_count": 24,
   "metadata": {},
   "outputs": [],
   "source": [
    " #From the EDA and problem statement file categorising into two category \" Continuos\" and \"Categorical\" variables\n",
    "continuous_vars = ['Distance from Residence to Work', 'Service time', 'Age', 'Work load Average/day ', 'Transportation expense',\n",
    "       'Hit target', 'Weight', 'Height', 'Body mass index', 'Absenteeism time in hours']\n",
    "\n",
    "categorical_vars = ['ID','Reason for absence','Month of absence','Day of the week',\n",
    "                     'Seasons','Disciplinary failure', 'Education', 'Social drinker',\n",
    "                     'Social smoker', 'Pet', 'Son']"
   ]
  },
  {
   "cell_type": "code",
   "execution_count": 10,
   "metadata": {},
   "outputs": [],
   "source": [
    "#Creating dataframe with missing values present in each variable\n",
    "missing_val = pd.DataFrame(df.isnull().sum()).reset_index()\n",
    "\n",
    "#Renaming variables of missing_val dataframe\n",
    "missing_val = missing_val.rename(columns = {'index': 'Variables', 0: 'Missing_percentage'})\n",
    "\n",
    "#Calculating percentage missing value\n",
    "missing_val['Missing_percentage'] = (missing_val['Missing_percentage']/len(df))*100\n",
    "\n",
    "# Sorting missing_val in Descending order\n",
    "missing_val = missing_val.sort_values('Missing_percentage', ascending = False).reset_index(drop = True)\n",
    "\n",
    "# Saving output result into csv file\n",
    "missing_val.to_csv(\"Missing_perc.csv\", index = False)"
   ]
  },
  {
   "cell_type": "markdown",
   "metadata": {},
   "source": [
    "###################### Imputation methods##########################"
   ]
  },
  {
   "cell_type": "code",
   "execution_count": 11,
   "metadata": {},
   "outputs": [
    {
     "name": "stdout",
     "output_type": "stream",
     "text": [
      "0\n"
     ]
    }
   ],
   "source": [
    "# Droping observation in which \"Absenteeism time in hours\" has missing value\n",
    "df = df.drop(df[df['Absenteeism time in hours'].isnull()].index, axis=0)\n",
    "#print(df.shape)\n",
    "print(df['Absenteeism time in hours'].isnull().sum())\n",
    "#print(df)"
   ]
  },
  {
   "cell_type": "markdown",
   "metadata": {},
   "source": [
    "####################Data cleaning#############################"
   ]
  },
  {
   "cell_type": "code",
   "execution_count": 12,
   "metadata": {},
   "outputs": [
    {
     "data": {
      "text/plain": [
       "ID                                  0\n",
       "Reason for absence                  3\n",
       "Month of absence                    1\n",
       "Day of the week                     0\n",
       "Seasons                             0\n",
       "Transportation expense              6\n",
       "Distance from Residence to Work     3\n",
       "Service time                        3\n",
       "Age                                 2\n",
       "Work load Average/day               8\n",
       "Hit target                          6\n",
       "Disciplinary failure                5\n",
       "Education                          10\n",
       "Son                                 6\n",
       "Social drinker                      3\n",
       "Social smoker                       4\n",
       "Pet                                 2\n",
       "Weight                              1\n",
       "Height                             14\n",
       "Body mass index                    29\n",
       "Absenteeism time in hours           0\n",
       "dtype: int64"
      ]
     },
     "execution_count": 12,
     "metadata": {},
     "output_type": "execute_result"
    }
   ],
   "source": [
    "df.isnull().sum()"
   ]
  },
  {
   "cell_type": "code",
   "execution_count": 14,
   "metadata": {},
   "outputs": [
    {
     "name": "stdout",
     "output_type": "stream",
     "text": [
      "Index(['ID', 'Reason for absence', 'Month of absence', 'Day of the week',\n",
      "       'Seasons', 'Transportation expense', 'Distance from Residence to Work',\n",
      "       'Service time', 'Age', 'Work load Average/day ', 'Hit target',\n",
      "       'Disciplinary failure', 'Education', 'Son', 'Social drinker',\n",
      "       'Social smoker', 'Pet', 'Weight', 'Height', 'Body mass index',\n",
      "       'Absenteeism time in hours'],\n",
      "      dtype='object')\n",
      "<class 'pandas.core.frame.DataFrame'>\n",
      "Int64Index: 718 entries, 0 to 739\n",
      "Data columns (total 21 columns):\n",
      "ID                                 718 non-null int64\n",
      "Reason for absence                 718 non-null float64\n",
      "Month of absence                   718 non-null float64\n",
      "Day of the week                    718 non-null int64\n",
      "Seasons                            718 non-null int64\n",
      "Transportation expense             718 non-null float64\n",
      "Distance from Residence to Work    718 non-null float64\n",
      "Service time                       718 non-null float64\n",
      "Age                                718 non-null float64\n",
      "Work load Average/day              718 non-null float64\n",
      "Hit target                         718 non-null float64\n",
      "Disciplinary failure               718 non-null float64\n",
      "Education                          718 non-null float64\n",
      "Son                                718 non-null float64\n",
      "Social drinker                     718 non-null float64\n",
      "Social smoker                      718 non-null float64\n",
      "Pet                                718 non-null float64\n",
      "Weight                             718 non-null float64\n",
      "Height                             718 non-null float64\n",
      "Body mass index                    718 non-null float64\n",
      "Absenteeism time in hours          718 non-null float64\n",
      "dtypes: float64(18), int64(3)\n",
      "memory usage: 123.4 KB\n",
      "None\n",
      "ID                                 0\n",
      "Reason for absence                 0\n",
      "Month of absence                   0\n",
      "Day of the week                    0\n",
      "Seasons                            0\n",
      "Transportation expense             0\n",
      "Distance from Residence to Work    0\n",
      "Service time                       0\n",
      "Age                                0\n",
      "Work load Average/day              0\n",
      "Hit target                         0\n",
      "Disciplinary failure               0\n",
      "Education                          0\n",
      "Son                                0\n",
      "Social drinker                     0\n",
      "Social smoker                      0\n",
      "Pet                                0\n",
      "Weight                             0\n",
      "Height                             0\n",
      "Body mass index                    0\n",
      "Absenteeism time in hours          0\n",
      "dtype: int64\n",
      "ID                                 0\n",
      "Reason for absence                 0\n",
      "Month of absence                   0\n",
      "Day of the week                    0\n",
      "Seasons                            0\n",
      "Transportation expense             0\n",
      "Distance from Residence to Work    0\n",
      "Service time                       0\n",
      "Age                                0\n",
      "Work load Average/day              0\n",
      "Hit target                         0\n",
      "Disciplinary failure               0\n",
      "Education                          0\n",
      "Son                                0\n",
      "Social drinker                     0\n",
      "Social smoker                      0\n",
      "Pet                                0\n",
      "Weight                             0\n",
      "Height                             0\n",
      "Body mass index                    0\n",
      "Absenteeism time in hours          0\n",
      "dtype: int64\n"
     ]
    }
   ],
   "source": [
    "# Imputing with mean\n",
    "print(df.columns)\n",
    "print(df.info())\n",
    "print(df.isnull().sum())\n",
    "df = df.fillna(df.mean())\n",
    "print(df.isnull().sum())"
   ]
  },
  {
   "cell_type": "code",
   "execution_count": 15,
   "metadata": {},
   "outputs": [
    {
     "data": {
      "text/plain": [
       "0"
      ]
     },
     "execution_count": 15,
     "metadata": {},
     "output_type": "execute_result"
    }
   ],
   "source": [
    "# Checking if all the missing value imputed\n",
    "df.isnull().sum().sum()"
   ]
  },
  {
   "cell_type": "code",
   "execution_count": 16,
   "metadata": {},
   "outputs": [],
   "source": [
    "##########################Outlier Analysis########################"
   ]
  },
  {
   "cell_type": "code",
   "execution_count": 17,
   "metadata": {},
   "outputs": [
    {
     "data": {
      "text/plain": [
       "Text(0,0.5,'Values')"
      ]
     },
     "execution_count": 17,
     "metadata": {},
     "output_type": "execute_result"
    },
    {
     "data": {
      "image/png": "[encoded data removed]",
      "text/plain": [
       "<matplotlib.figure.Figure at 0x21cb5db9400>"
      ]
     },
     "metadata": {},
     "output_type": "display_data"
    }
   ],
   "source": [
    "# Ploting BoxPlot of continuous variables\n",
    "plt.boxplot(df['Transportation expense'])\n",
    "plt.xlabel(\"'Transportation expense'\")\n",
    "plt.title(\"BoxPlot of Variable 'Transportation expense'\")\n",
    "plt.ylabel('Values')\n",
    "#plt.savefig('Transportation_expense.png')"
   ]
  },
  {
   "cell_type": "code",
   "execution_count": 18,
   "metadata": {},
   "outputs": [
    {
     "data": {
      "text/plain": [
       "Text(0,0.5,'Values')"
      ]
     },
     "execution_count": 18,
     "metadata": {},
     "output_type": "execute_result"
    },
    {
     "data": {
      "image/png": "[encoded data removed]",
      "text/plain": [
       "<matplotlib.figure.Figure at 0x21cb5dfa9e8>"
      ]
     },
     "metadata": {},
     "output_type": "display_data"
    }
   ],
   "source": [
    "plt.boxplot(df['Work load Average/day '])\n",
    "plt.xlabel(\"Work load Average/day \")\n",
    "plt.title(\"BoxPlot of Variable 'Work load Average/day '\")\n",
    "plt.ylabel('Values')\n",
    "#plt.savefig('Work load Average.png')"
   ]
  },
  {
   "cell_type": "code",
   "execution_count": 19,
   "metadata": {},
   "outputs": [
    {
     "data": {
      "image/png": "[encoded data removed]",
      "text/plain": [
       "<matplotlib.figure.Figure at 0x21cb5c9da90>"
      ]
     },
     "metadata": {},
     "output_type": "display_data"
    }
   ],
   "source": [
    "plt.boxplot(df['Height'])\n",
    "plt.xlabel(\"Height\")\n",
    "plt.title(\"BoxPlot of Variable for 'Height'\")\n",
    "plt.ylabel('Values')\n",
    "plt.savefig('Height.png')"
   ]
  },
  {
   "cell_type": "code",
   "execution_count": 20,
   "metadata": {},
   "outputs": [
    {
     "data": {
      "text/plain": [
       "Text(0,0.5,'Values')"
      ]
     },
     "execution_count": 20,
     "metadata": {},
     "output_type": "execute_result"
    },
    {
     "data": {
      "image/png": "[encoded data removed]",
      "text/plain": [
       "<matplotlib.figure.Figure at 0x21cb5eae828>"
      ]
     },
     "metadata": {},
     "output_type": "display_data"
    }
   ],
   "source": [
    "plt.boxplot([ df['Distance from Residence to Work'], df['Service time'], df['Age'], df['Hit target'], df['Weight'], df['Body mass index']])\n",
    "plt.xlabel(['1. Distance from Residence to Work', '2. Service time', '3. Age', '4. Hit target', '5. Weight', '6. Body mass index'])\n",
    "plt.title(\"BoxPlot of rest of the Variables\")\n",
    "plt.ylabel('Values')\n",
    "#plt.savefig('BoxPlot of rest of the Variables.png')"
   ]
  },
  {
   "cell_type": "code",
   "execution_count": 21,
   "metadata": {},
   "outputs": [],
   "source": [
    "# From the above boxplot we can clearly see that in variables 'Distance from Residence to Work', 'Weight' and 'Body mass index'\n",
    "# there is no outlier"
   ]
  },
  {
   "cell_type": "code",
   "execution_count": 23,
   "metadata": {},
   "outputs": [
    {
     "data": {
      "text/plain": [
       "0"
      ]
     },
     "execution_count": 23,
     "metadata": {},
     "output_type": "execute_result"
    }
   ],
   "source": [
    "# list of variables which doesn't have outlier\n",
    "neglect = ['Distance from Residence to Work', 'Weight', 'Body mass index']\n",
    "\n",
    "# Looping over all continuous variables to detect and remove Outliers\n",
    "for i in continuous_vars:\n",
    "    # Avoiding the variables which doesn't have outlier\n",
    "    if i in neglect:\n",
    "        continue\n",
    "    # Getting 70 and 30 percentile of variable \"i\"\n",
    "    q70, q30 = np.percentile(df[i], [70,30])\n",
    "    # Calculating Interquartile range\n",
    "    iqr = q70 - q30\n",
    "    \n",
    "    # Calculating upper extream and lower extream\n",
    "    minimum = q30 - (iqr*1.5)\n",
    "    maximum = q70 + (iqr*1.5)\n",
    "    \n",
    "    # Replacing all the outliers value to NA\n",
    "    df.loc[df[i]< minimum,i] = np.nan\n",
    "    df.loc[df[i]> maximum,i] = np.nan\n",
    "\n",
    "#Imputing missing values with mean\n",
    "df = df.fillna(df.mean())\n",
    "\n",
    "# Checking if there is any missing value\n",
    "df.isnull().sum().sum()"
   ]
  },
  {
   "cell_type": "code",
   "execution_count": 31,
   "metadata": {},
   "outputs": [
    {
     "data": {
      "text/plain": [
       "0"
      ]
     },
     "execution_count": 31,
     "metadata": {},
     "output_type": "execute_result"
    }
   ],
   "source": [
    "# list of variables which doesn't have outlier\n",
    "neglect = ['Distance from Residence to Work', 'Weight', 'Body mass index']\n",
    "\n",
    "# Looping over all continuous variables to detect and remove Outliers\n",
    "for i in continuous_vars :\n",
    "    # Avoiding the variables which doesn't have outlier\n",
    "    if i in neglect:\n",
    "        continue\n",
    "    # Getting 70 and 30 percentile of variable \"i\"\n",
    "    q70, q30 = np.percentile(df[i], [70,30])\n",
    "    # Calculating Interquartile range\n",
    "    iqr = q70 - q30\n",
    "    \n",
    "    # Calculating upper extreme and lower extreme\n",
    "    minimum = q30 - (iqr*1.5)\n",
    "    maximum = q70 + (iqr*1.5)\n",
    "    \n",
    "    # Replacing all the outliers value to NA\n",
    "    df.loc[df[i]< minimum,i] = np.nan\n",
    "    df.loc[df[i]> maximum,i] = np.nan\n",
    "\n",
    "#Imputing missing values with mean\n",
    "df = df.fillna(df.mean())\n",
    "\n",
    "# Checking if there is any missing value\n",
    "df.isnull().sum().sum()\n"
   ]
  },
  {
   "cell_type": "code",
   "execution_count": 32,
   "metadata": {},
   "outputs": [
    {
     "data": {
      "text/plain": [
       "['Distance from Residence to Work',\n",
       " 'Service time',\n",
       " 'Age',\n",
       " 'Work load Average/day ',\n",
       " 'Transportation expense',\n",
       " 'Hit target',\n",
       " 'Weight',\n",
       " 'Height',\n",
       " 'Body mass index',\n",
       " 'Absenteeism time in hours']"
      ]
     },
     "execution_count": 32,
     "metadata": {},
     "output_type": "execute_result"
    }
   ],
   "source": [
    "continuous_vars"
   ]
  },
  {
   "cell_type": "code",
   "execution_count": 33,
   "metadata": {},
   "outputs": [
    {
     "data": {
      "text/plain": [
       "(718, 21)"
      ]
     },
     "execution_count": 33,
     "metadata": {},
     "output_type": "execute_result"
    }
   ],
   "source": [
    "df.shape"
   ]
  },
  {
   "cell_type": "markdown",
   "metadata": {},
   "source": [
    "Feature Selection"
   ]
  },
  {
   "cell_type": "code",
   "execution_count": 35,
   "metadata": {},
   "outputs": [],
   "source": [
    "##Correlation analysis for continuous variables\n",
    "#Correlation plot\n",
    "df_corr = df.loc[:,continuous_vars]"
   ]
  },
  {
   "cell_type": "code",
   "execution_count": 36,
   "metadata": {},
   "outputs": [
    {
     "data": {
      "text/plain": [
       "[]"
      ]
     },
     "execution_count": 36,
     "metadata": {},
     "output_type": "execute_result"
    },
    {
     "data": {
      "image/png": "[encoded data removed]",
      "text/plain": [
       "<matplotlib.figure.Figure at 0x21cb5f53d68>"
      ]
     },
     "metadata": {},
     "output_type": "display_data"
    }
   ],
   "source": [
    "#Set the width and hieght of the plot\n",
    "f, ax = plt.subplots(figsize=(10, 10))\n",
    "\n",
    "#Generate correlation matrix\n",
    "corr = df_corr.corr()\n",
    "\n",
    "#Plot using seaborn library\n",
    "sns.heatmap(corr, mask=np.zeros_like(corr, dtype=np.bool), \n",
    "            cmap=sns.diverging_palette(220, 50, as_cmap=True),\n",
    "            square=True, ax=ax, annot = True)\n",
    "plt.plot()\n",
    "#plt.savefig('heatmap.png')"
   ]
  },
  {
   "cell_type": "code",
   "execution_count": 37,
   "metadata": {},
   "outputs": [],
   "source": [
    "# based on above correlations data, varaibles  'Transport expense', 'Hit target',\n",
    "#'Work load Average/day' are highly correlated to target variable "
   ]
  },
  {
   "cell_type": "code",
   "execution_count": 38,
   "metadata": {},
   "outputs": [
    {
     "name": "stdout",
     "output_type": "stream",
     "text": [
      "P value for variable ID is 2.6888712254772103e-168\n",
      "P value for variable Reason for absence is 5.260739244332726e-279\n",
      "P value for variable Month of absence is 6.316518172964382e-27\n",
      "P value for variable Day of the week is 0.00276365443242278\n",
      "P value for variable Seasons is 2.557016509176232e-39\n",
      "P value for variable Disciplinary failure is 1.281611334871804e-187\n",
      "P value for variable Education is 9.271524716143012e-105\n",
      "P value for variable Social drinker is 8.137184300735509e-152\n",
      "P value for variable Social smoker is 1.0804268719627992e-185\n",
      "P value for variable Pet is 2.162751145075096e-127\n",
      "P value for variable Son is 2.9537200516011844e-116\n"
     ]
    }
   ],
   "source": [
    "#loop for ANOVA test Since the target variable is continuous\n",
    "for i in categorical_vars:\n",
    "    f, p = stats.f_oneway(df[i], df[\"Absenteeism time in hours\"])\n",
    "    print(\"P value for variable \"+str(i)+\" is \"+str(p))"
   ]
  },
  {
   "cell_type": "code",
   "execution_count": 39,
   "metadata": {},
   "outputs": [],
   "source": [
    "# Droping the variables which has redundant information\n",
    "to_drop = ['Weight']\n",
    "df = df.drop(to_drop, axis = 1)"
   ]
  },
  {
   "cell_type": "code",
   "execution_count": 40,
   "metadata": {},
   "outputs": [],
   "source": [
    "# Updating the Continuous Variables and Categorical Variables after droping some variables\n",
    "continuous_vars = [i for i in continuous_vars if i not in to_drop]\n",
    "categorical_vars = [i for i in categorical_vars if i not in to_drop]"
   ]
  },
  {
   "cell_type": "code",
   "execution_count": 41,
   "metadata": {},
   "outputs": [],
   "source": [
    "clean_data = df.copy()"
   ]
  },
  {
   "cell_type": "markdown",
   "metadata": {},
   "source": [
    "Feature Scaling"
   ]
  },
  {
   "cell_type": "code",
   "execution_count": 42,
   "metadata": {},
   "outputs": [
    {
     "data": {
      "image/png": "[encoded data removed]",
      "text/plain": [
       "<matplotlib.figure.Figure at 0x21cb62a35c0>"
      ]
     },
     "metadata": {},
     "output_type": "display_data"
    },
    {
     "data": {
      "image/png": "[encoded data removed]",
      "text/plain": [
       "<matplotlib.figure.Figure at 0x21cb6062e48>"
      ]
     },
     "metadata": {},
     "output_type": "display_data"
    },
    {
     "data": {
      "image/png": "[encoded data removed]",
      "text/plain": [
       "<matplotlib.figure.Figure at 0x21cb6129ef0>"
      ]
     },
     "metadata": {},
     "output_type": "display_data"
    },
    {
     "data": {
      "image/png": "[encoded data removed]",
      "text/plain": [
       "<matplotlib.figure.Figure at 0x21cb61a5e80>"
      ]
     },
     "metadata": {},
     "output_type": "display_data"
    },
    {
     "data": {
      "image/png": "[encoded data removed]",
      "text/plain": [
       "<matplotlib.figure.Figure at 0x21cb66fdf28>"
      ]
     },
     "metadata": {},
     "output_type": "display_data"
    },
    {
     "data": {
      "image/png": "[encoded data removed]",
      "text/plain": [
       "<matplotlib.figure.Figure at 0x21cb672c470>"
      ]
     },
     "metadata": {},
     "output_type": "display_data"
    },
    {
     "data": {
      "image/png": "[encoded data removed]",
      "text/plain": [
       "<matplotlib.figure.Figure at 0x21cb6808eb8>"
      ]
     },
     "metadata": {},
     "output_type": "display_data"
    },
    {
     "data": {
      "image/png": "[encoded data removed]",
      "text/plain": [
       "<matplotlib.figure.Figure at 0x21cb7844ef0>"
      ]
     },
     "metadata": {},
     "output_type": "display_data"
    }
   ],
   "source": [
    "# Checking if there is any normally distributed variable in data\n",
    "for i in continuous_vars:\n",
    "    if i == 'Absenteeism time in hours':\n",
    "        continue\n",
    "    sns.distplot(df[i],bins = 'auto')\n",
    "    plt.title(\"Checking Distribution for Variable \"+str(i))\n",
    "    plt.ylabel(\"Density\")\n",
    "    plt.show()"
   ]
  },
  {
   "cell_type": "code",
   "execution_count": 43,
   "metadata": {},
   "outputs": [],
   "source": [
    "# Since there is no normally distributed curve we will use Normalizationg for Feature Scalling\n",
    "# #Normalization\n",
    "for i in continuous_vars:\n",
    "    if i == 'Absenteeism time in hours':\n",
    "        continue\n",
    "    df[i] = (df[i] - df[i].min())/(df[i].max()-df[i].min())"
   ]
  },
  {
   "cell_type": "markdown",
   "metadata": {},
   "source": [
    "Machine Learning Models"
   ]
  },
  {
   "cell_type": "code",
   "execution_count": 44,
   "metadata": {},
   "outputs": [],
   "source": [
    "# Get dummy variables for categorical variables\n",
    "df = pd.get_dummies(data = df, columns = categorical_vars)\n",
    "\n",
    "# Copying dataframe\n",
    "df1 = df.copy()"
   ]
  },
  {
   "cell_type": "code",
   "execution_count": 45,
   "metadata": {},
   "outputs": [
    {
     "data": {
      "text/plain": [
       "0    4.0\n",
       "1    0.0\n",
       "2    2.0\n",
       "3    4.0\n",
       "4    2.0\n",
       "Name: Absenteeism time in hours, dtype: float64"
      ]
     },
     "execution_count": 45,
     "metadata": {},
     "output_type": "execute_result"
    }
   ],
   "source": [
    "df.iloc[:,8].head()"
   ]
  },
  {
   "cell_type": "code",
   "execution_count": 46,
   "metadata": {},
   "outputs": [
    {
     "data": {
      "text/html": [
       "<div>\n",
       "<style scoped>\n",
       "    .dataframe tbody tr th:only-of-type {\n",
       "        vertical-align: middle;\n",
       "    }\n",
       "\n",
       "    .dataframe tbody tr th {\n",
       "        vertical-align: top;\n",
       "    }\n",
       "\n",
       "    .dataframe thead th {\n",
       "        text-align: right;\n",
       "    }\n",
       "</style>\n",
       "<table border=\"1\" class=\"dataframe\">\n",
       "  <thead>\n",
       "    <tr style=\"text-align: right;\">\n",
       "      <th></th>\n",
       "      <th>Transportation expense</th>\n",
       "      <th>Distance from Residence to Work</th>\n",
       "      <th>Service time</th>\n",
       "      <th>Age</th>\n",
       "      <th>Work load Average/day</th>\n",
       "      <th>Hit target</th>\n",
       "      <th>Height</th>\n",
       "      <th>Body mass index</th>\n",
       "      <th>ID_1</th>\n",
       "      <th>ID_2</th>\n",
       "      <th>...</th>\n",
       "      <th>Pet_2.0</th>\n",
       "      <th>Pet_4.0</th>\n",
       "      <th>Pet_5.0</th>\n",
       "      <th>Pet_8.0</th>\n",
       "      <th>Son_0.0</th>\n",
       "      <th>Son_1.0</th>\n",
       "      <th>Son_1.0098314606741574</th>\n",
       "      <th>Son_2.0</th>\n",
       "      <th>Son_3.0</th>\n",
       "      <th>Son_4.0</th>\n",
       "    </tr>\n",
       "  </thead>\n",
       "  <tbody>\n",
       "    <tr>\n",
       "      <th>0</th>\n",
       "      <td>0.93956</td>\n",
       "      <td>0.659574</td>\n",
       "      <td>0.545455</td>\n",
       "      <td>0.375</td>\n",
       "      <td>0.312455</td>\n",
       "      <td>0.769231</td>\n",
       "      <td>0.961749</td>\n",
       "      <td>0.578947</td>\n",
       "      <td>0</td>\n",
       "      <td>0</td>\n",
       "      <td>...</td>\n",
       "      <td>0</td>\n",
       "      <td>0</td>\n",
       "      <td>0</td>\n",
       "      <td>0</td>\n",
       "      <td>0</td>\n",
       "      <td>0</td>\n",
       "      <td>0</td>\n",
       "      <td>1</td>\n",
       "      <td>0</td>\n",
       "      <td>0</td>\n",
       "    </tr>\n",
       "  </tbody>\n",
       "</table>\n",
       "<p>1 rows × 123 columns</p>\n",
       "</div>"
      ],
      "text/plain": [
       "   Transportation expense  Distance from Residence to Work  Service time  \\\n",
       "0                 0.93956                         0.659574      0.545455   \n",
       "\n",
       "     Age  Work load Average/day   Hit target    Height  Body mass index  ID_1  \\\n",
       "0  0.375                0.312455    0.769231  0.961749         0.578947     0   \n",
       "\n",
       "   ID_2   ...     Pet_2.0  Pet_4.0  Pet_5.0  Pet_8.0  Son_0.0  Son_1.0  \\\n",
       "0     0   ...           0        0        0        0        0        0   \n",
       "\n",
       "   Son_1.0098314606741574  Son_2.0  Son_3.0  Son_4.0  \n",
       "0                       0        1        0        0  \n",
       "\n",
       "[1 rows x 123 columns]"
      ]
     },
     "execution_count": 46,
     "metadata": {},
     "output_type": "execute_result"
    }
   ],
   "source": [
    "df.iloc[:, df.columns != 'Absenteeism time in hours'].head(1)"
   ]
  },
  {
   "cell_type": "code",
   "execution_count": 47,
   "metadata": {},
   "outputs": [],
   "source": [
    "# Using train_test_split sampling function for test and train data split\n",
    "from sklearn.model_selection import train_test_split\n",
    "X_train, X_test, y_train, y_test = train_test_split( df.iloc[:, df.columns != 'Absenteeism time in hours'], df.iloc[:, 8], test_size = 0.30)"
   ]
  },
  {
   "cell_type": "markdown",
   "metadata": {},
   "source": [
    "Decision Tree"
   ]
  },
  {
   "cell_type": "code",
   "execution_count": 48,
   "metadata": {},
   "outputs": [
    {
     "name": "stdout",
     "output_type": "stream",
     "text": [
      "Root Mean Squared Error For Training data = 3.0632692118270413\n",
      "Root Mean Squared Error For Test data = 3.107425976419231\n",
      "R^2 Score(coefficient of determination) = 0.12884305376445448\n",
      "The Acuracy for our Model is  12.884305376445448 %\n"
     ]
    }
   ],
   "source": [
    "# Importing libraries for Decision Tree \n",
    "from sklearn.tree import DecisionTreeRegressor\n",
    "from sklearn.metrics import mean_squared_error\n",
    "\n",
    "# Building model on top of training dataset\n",
    "fit_DT = DecisionTreeRegressor(max_depth = 2).fit(X_train,y_train)\n",
    "\n",
    "# Calculating RMSE for training data to check for over fitting\n",
    "pred_train = fit_DT.predict(X_train)\n",
    "rmse_for_train = np.sqrt(mean_squared_error(y_train,pred_train))\n",
    "\n",
    "# Calculating RMSE for test data to check accuracy\n",
    "pred_test = fit_DT.predict(X_test)\n",
    "rmse_for_test =np.sqrt(mean_squared_error(y_test,pred_test))\n",
    "\n",
    "print(\"Root Mean Squared Error For Training data = \"+str(rmse_for_train))\n",
    "print(\"Root Mean Squared Error For Test data = \"+str(rmse_for_test))\n",
    "print(\"R^2 Score(coefficient of determination) = \"+str(r2_score(y_test,pred_test)))\n",
    "n = r2_score(y_test, pred_test)*100\n",
    "print(\"The Acuracy for our Model is \",n,\"%\")"
   ]
  },
  {
   "cell_type": "markdown",
   "metadata": {},
   "source": [
    "Random Forest"
   ]
  },
  {
   "cell_type": "code",
   "execution_count": 49,
   "metadata": {},
   "outputs": [
    {
     "name": "stdout",
     "output_type": "stream",
     "text": [
      "Root Mean Squared Error For Training data = 1.1271497251824318\n",
      "Root Mean Squared Error For Test data = 2.742335249223793\n",
      "R^2 Score(coefficient of determination) = 0.321521778037269\n",
      "The Acuracy for our Model is  32.1521778037269 %\n"
     ]
    }
   ],
   "source": [
    "# Importing libraries for Random Forest\n",
    "from sklearn.ensemble import RandomForestRegressor\n",
    "\n",
    "# Building model on top of training dataset\n",
    "fit_RF = RandomForestRegressor(n_estimators = 500).fit(X_train,y_train)\n",
    "\n",
    "# Calculating RMSE for training data to check for over fitting\n",
    "pred_train = fit_RF.predict(X_train)\n",
    "rmse_for_train = np.sqrt(mean_squared_error(y_train,pred_train))\n",
    "\n",
    "# Calculating RMSE for test data to check accuracy\n",
    "pred_test = fit_RF.predict(X_test)\n",
    "rmse_for_test =np.sqrt(mean_squared_error(y_test,pred_test))\n",
    "\n",
    "print(\"Root Mean Squared Error For Training data = \"+str(rmse_for_train))\n",
    "print(\"Root Mean Squared Error For Test data = \"+str(rmse_for_test))\n",
    "print(\"R^2 Score(coefficient of determination) = \"+str(r2_score(y_test,pred_test)))\n",
    "n = r2_score(y_test, pred_test)*100\n",
    "print(\"The Acuracy for our Model is \",n,\"%\")"
   ]
  },
  {
   "cell_type": "markdown",
   "metadata": {},
   "source": [
    "Linear Regression"
   ]
  },
  {
   "cell_type": "code",
   "execution_count": 50,
   "metadata": {},
   "outputs": [
    {
     "name": "stdout",
     "output_type": "stream",
     "text": [
      "Root Mean Squared Error For Training data = 2.3469252766186144\n",
      "Root Mean Squared Error For Test data = 3893018684029.773\n",
      "R^2 Score(coefficient of determination) = -1.3673125379594396e+24\n",
      "The Acuracy for our Model is  -1.3673125379594395e+26 %\n"
     ]
    }
   ],
   "source": [
    "# Importing libraries for Linear Regression\n",
    "from sklearn.linear_model import LinearRegression\n",
    "\n",
    "# Building model on top of training dataset\n",
    "fit_LR = LinearRegression().fit(X_train , y_train)\n",
    "\n",
    "# Calculating RMSE for training data to check for over fitting\n",
    "pred_train = fit_LR.predict(X_train)\n",
    "rmse_for_train = np.sqrt(mean_squared_error(y_train,pred_train))\n",
    "\n",
    "# Calculating RMSE for test data to check accuracy\n",
    "pred_test = fit_LR.predict(X_test)\n",
    "rmse_for_test =np.sqrt(mean_squared_error(y_test,pred_test))\n",
    "\n",
    "print(\"Root Mean Squared Error For Training data = \"+str(rmse_for_train))\n",
    "print(\"Root Mean Squared Error For Test data = \"+str(rmse_for_test))\n",
    "print(\"R^2 Score(coefficient of determination) = \"+str(r2_score(y_test,pred_test)))\n",
    "n = r2_score(y_test, pred_test)*100\n",
    "print(\"The Acuracy for our Model is \",n,\"%\")"
   ]
  },
  {
   "cell_type": "markdown",
   "metadata": {},
   "source": [
    "Gradient Boosting"
   ]
  },
  {
   "cell_type": "code",
   "execution_count": 51,
   "metadata": {},
   "outputs": [
    {
     "name": "stdout",
     "output_type": "stream",
     "text": [
      "Root Mean Squared Error For Training data = 2.1048937583377705\n",
      "Root Mean Squared Error For Test data = 2.6710038155917712\n",
      "R^2 Score(coefficient of determination) = 0.3563587984272253\n",
      "The Acuracy for our Model is  35.63587984272253 %\n"
     ]
    }
   ],
   "source": [
    "# Importing library for GradientBoosting\n",
    "from sklearn.ensemble import GradientBoostingRegressor\n",
    "\n",
    "# Building model on top of training dataset\n",
    "fit_GB = GradientBoostingRegressor().fit(X_train, y_train)\n",
    "\n",
    "# Calculating RMSE for training data to check for over fitting\n",
    "pred_train = fit_GB.predict(X_train)\n",
    "rmse_for_train = np.sqrt(mean_squared_error(y_train,pred_train))\n",
    "\n",
    "# Calculating RMSE for test data to check accuracy\n",
    "pred_test = fit_GB.predict(X_test)\n",
    "rmse_for_test =np.sqrt(mean_squared_error(y_test,pred_test))\n",
    "\n",
    "print(\"Root Mean Squared Error For Training data = \"+str(rmse_for_train))\n",
    "print(\"Root Mean Squared Error For Test data = \"+str(rmse_for_test))\n",
    "print(\"R^2 Score(coefficient of determination) = \"+str(r2_score(y_test,pred_test)))\n",
    "n = r2_score(y_test, pred_test)*100\n",
    "print(\"The Acuracy for our Model is \",n,\"%\")"
   ]
  },
  {
   "cell_type": "markdown",
   "metadata": {},
   "source": [
    "Dimensionality Reduction using PCA"
   ]
  },
  {
   "cell_type": "code",
   "execution_count": 52,
   "metadata": {},
   "outputs": [],
   "source": [
    "target = df['Absenteeism time in hours']"
   ]
  },
  {
   "cell_type": "code",
   "execution_count": 53,
   "metadata": {},
   "outputs": [
    {
     "data": {
      "text/plain": [
       "(718, 123)"
      ]
     },
     "execution_count": 53,
     "metadata": {},
     "output_type": "execute_result"
    }
   ],
   "source": [
    "df.drop(['Absenteeism time in hours'], inplace = True, axis=1)\n",
    "df.shape"
   ]
  },
  {
   "cell_type": "code",
   "execution_count": 54,
   "metadata": {},
   "outputs": [
    {
     "data": {
      "image/png": "[encoded data removed]",
      "text/plain": [
       "<matplotlib.figure.Figure at 0x21cb78d1f98>"
      ]
     },
     "metadata": {},
     "output_type": "display_data"
    }
   ],
   "source": [
    "from sklearn.decomposition import PCA\n",
    "\n",
    "# Converting data to numpy array\n",
    "X = df1.values\n",
    "\n",
    "# Data has 123 variables so no of components of PCA = 123\n",
    "pca = PCA(n_components=123)\n",
    "pca.fit(X)\n",
    "\n",
    "# The amount of variance that each PC explains\n",
    "var= pca.explained_variance_ratio_\n",
    "\n",
    "# Cumulative Variance explains\n",
    "var1=np.cumsum(np.round(pca.explained_variance_ratio_, decimals=4)*100)\n",
    "\n",
    "plt.plot(var1)\n",
    "plt.show()"
   ]
  },
  {
   "cell_type": "code",
   "execution_count": 55,
   "metadata": {},
   "outputs": [],
   "source": [
    "# From the above plot selecting 45 components since it explains almost 95+ % data variance\n",
    "pca = PCA(n_components=45)\n",
    "\n",
    "# Fitting the selected components to the data\n",
    "pca.fit(X)\n",
    "\n",
    "# Using train_test_split sampling function for test and train data split\n",
    "X_train, X_test, y_train, y_test = train_test_split(X,target, test_size=0.3)"
   ]
  },
  {
   "cell_type": "markdown",
   "metadata": {},
   "source": [
    "Decision Tree"
   ]
  },
  {
   "cell_type": "code",
   "execution_count": 56,
   "metadata": {},
   "outputs": [
    {
     "name": "stdout",
     "output_type": "stream",
     "text": [
      "Root Mean Squared Error For Training data = 0.5549512211759232\n",
      "Root Mean Squared Error For Test data = 0.5755419840270428\n",
      "R^2 Score(coefficient of determination) = 0.9702022454372837\n",
      "The Acuracy for our Model is  97.02022454372838 %\n"
     ]
    }
   ],
   "source": [
    "# Importing libraries for Decision Tree \n",
    "from sklearn.tree import DecisionTreeRegressor\n",
    "from sklearn.metrics import mean_squared_error\n",
    "\n",
    "# Building model on top of training dataset\n",
    "fit_DT = DecisionTreeRegressor(max_depth = 2).fit(X_train,y_train)\n",
    "\n",
    "# Calculating RMSE for training data to check for over fitting\n",
    "pred_train = fit_DT.predict(X_train)\n",
    "rmse_for_train = np.sqrt(mean_squared_error(y_train,pred_train))\n",
    "\n",
    "# Calculating RMSE for test data to check accuracy\n",
    "pred_test = fit_DT.predict(X_test)\n",
    "rmse_for_test =np.sqrt(mean_squared_error(y_test,pred_test))\n",
    "\n",
    "print(\"Root Mean Squared Error For Training data = \"+str(rmse_for_train))\n",
    "print(\"Root Mean Squared Error For Test data = \"+str(rmse_for_test))\n",
    "print(\"R^2 Score(coefficient of determination) = \"+str(r2_score(y_test,pred_test)))\n",
    "n = r2_score(y_test, pred_test)*100\n",
    "print(\"The Acuracy for our Model is \",n,\"%\")"
   ]
  },
  {
   "cell_type": "markdown",
   "metadata": {},
   "source": [
    "Random Forest"
   ]
  },
  {
   "cell_type": "code",
   "execution_count": 57,
   "metadata": {},
   "outputs": [
    {
     "name": "stdout",
     "output_type": "stream",
     "text": [
      "Root Mean Squared Error For Training data = 0.020104509951386514\n",
      "Root Mean Squared Error For Test data = 0.006151198268317667\n",
      "R^2 Score(coefficient of determination) = 0.9999965963180563\n",
      "The Acuracy for our Model is  99.99965963180563 %\n"
     ]
    }
   ],
   "source": [
    "# Importing libraries for Random Forest\n",
    "from sklearn.ensemble import RandomForestRegressor\n",
    "\n",
    "# Building model on top of training dataset\n",
    "fit_RF = RandomForestRegressor(n_estimators = 500).fit(X_train,y_train)\n",
    "\n",
    "# Calculating RMSE for training data to check for over fitting\n",
    "pred_train = fit_RF.predict(X_train)\n",
    "rmse_for_train = np.sqrt(mean_squared_error(y_train,pred_train))\n",
    "\n",
    "# Calculating RMSE for test data to check accuracy\n",
    "pred_test = fit_RF.predict(X_test)\n",
    "rmse_for_test =np.sqrt(mean_squared_error(y_test,pred_test))\n",
    "\n",
    "print(\"Root Mean Squared Error For Training data = \"+str(rmse_for_train))\n",
    "print(\"Root Mean Squared Error For Test data = \"+str(rmse_for_test))\n",
    "print(\"R^2 Score(coefficient of determination) = \"+str(r2_score(y_test,pred_test)))\n",
    "n = r2_score(y_test, pred_test)*100\n",
    "print(\"The Acuracy for our Model is \",n,\"%\")"
   ]
  },
  {
   "cell_type": "markdown",
   "metadata": {},
   "source": [
    "Linear Regression"
   ]
  },
  {
   "cell_type": "code",
   "execution_count": 58,
   "metadata": {},
   "outputs": [
    {
     "name": "stdout",
     "output_type": "stream",
     "text": [
      "Root Mean Squared Error For Training data = 2.8589901535719392e-15\n",
      "Root Mean Squared Error For Test data = 0.00658891418853747\n",
      "R^2 Score(coefficient of determination) = 0.999996094674632\n",
      "The Acuracy for our Model is  99.9996094674632 %\n"
     ]
    }
   ],
   "source": [
    "# Importing libraries for Linear Regression\n",
    "from sklearn.linear_model import LinearRegression\n",
    "\n",
    "# Building model on top of training dataset\n",
    "fit_LR = LinearRegression().fit(X_train , y_train)\n",
    "\n",
    "# Calculating RMSE for training data to check for over fitting\n",
    "pred_train = fit_LR.predict(X_train)\n",
    "rmse_for_train = np.sqrt(mean_squared_error(y_train,pred_train))\n",
    "\n",
    "# Calculating RMSE for test data to check accuracy\n",
    "pred_test = fit_LR.predict(X_test)\n",
    "rmse_for_test =np.sqrt(mean_squared_error(y_test,pred_test))\n",
    "\n",
    "print(\"Root Mean Squared Error For Training data = \"+str(rmse_for_train))\n",
    "print(\"Root Mean Squared Error For Test data = \"+str(rmse_for_test))\n",
    "print(\"R^2 Score(coefficient of determination) = \"+str(r2_score(y_test,pred_test)))\n",
    "n = r2_score(y_test, pred_test)*100\n",
    "print(\"The Acuracy for our Model is \",n,\"%\")"
   ]
  },
  {
   "cell_type": "markdown",
   "metadata": {},
   "source": [
    "Gradient Boosting"
   ]
  },
  {
   "cell_type": "code",
   "execution_count": 59,
   "metadata": {},
   "outputs": [
    {
     "name": "stdout",
     "output_type": "stream",
     "text": [
      "Root Mean Squared Error For Training data = 0.00031158010532552553\n",
      "Root Mean Squared Error For Test data = 0.00032751075969851155\n",
      "R^2 Score(coefficient of determination) = 0.9999999903510365\n",
      "The Acuracy for our Model is  99.99999903510364 %\n"
     ]
    }
   ],
   "source": [
    "# Importing library for Gradient Boosting\n",
    "from sklearn.ensemble import GradientBoostingRegressor\n",
    "\n",
    "# Building model on top of training dataset\n",
    "fit_GB = GradientBoostingRegressor().fit(X_train, y_train)\n",
    "\n",
    "# Calculating RMSE for training data to check for over fitting\n",
    "pred_train = fit_GB.predict(X_train)\n",
    "rmse_for_train = np.sqrt(mean_squared_error(y_train,pred_train))\n",
    "\n",
    "# Calculating RMSE for test data to check accuracy\n",
    "pred_test = fit_GB.predict(X_test)\n",
    "rmse_for_test =np.sqrt(mean_squared_error(y_test,pred_test))\n",
    "\n",
    "print(\"Root Mean Squared Error For Training data = \"+str(rmse_for_train))\n",
    "print(\"Root Mean Squared Error For Test data = \"+str(rmse_for_test))\n",
    "print(\"R^2 Score(coefficient of determination) = \"+str(r2_score(y_test,pred_test)))\n",
    "n = r2_score(y_test, pred_test)*100\n",
    "print(\"The Acuracy for our Model is \",n,\"%\")"
   ]
  },
  {
   "cell_type": "code",
   "execution_count": null,
   "metadata": {},
   "outputs": [],
   "source": []
  }
 ],
 "metadata": {
  "kernelspec": {
   "display_name": "Python 3",
   "language": "python",
   "name": "python3"
  },
  "language_info": {
   "codemirror_mode": {
    "name": "ipython",
    "version": 3
   },
   "file_extension": ".py",
   "mimetype": "text/x-python",
   "name": "python",
   "nbconvert_exporter": "python",
   "pygments_lexer": "ipython3",
   "version": "3.6.4"
  }
 },
 "nbformat": 4,
 "nbformat_minor": 2
}
